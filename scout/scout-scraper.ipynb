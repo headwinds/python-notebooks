{
 "cells": [
  {
   "cell_type": "code",
   "execution_count": 31,
   "metadata": {},
   "outputs": [
    {
     "name": "stdout",
     "output_type": "stream",
     "text": [
      "schedule:  [{'title': 'Calgary Stampede: Stampede Wrap Day #4 (HD) Featuring Stampede Wrap Day #4 from Calgary, Alberta.', 'start-time': '2019-07-09 00:00', 'end-time': '2019-07-09 00:30'}, {'title': \"Coronation Street (HD) (DV) - Eps. #9804 Robert assures Vicky that he and Michelle are history. Steve and Tim build a wardrobe for Amy. Adam notices a bruise on Sarah's arm.\", 'start-time': '2019-07-09 00:30', 'end-time': '2019-07-09 01:00'}, {'title': 'Coronation Street (HD) (DV) - Eps. #9805Gemma arranges to meet a reporter. Steve thinks a surprise party is in the works. A suspicious Ryan quizzes Robert.', 'start-time': '2019-07-09 01:00', 'end-time': '2019-07-09 01:30'}, {'title': \"Hello Goodbye (HD) (DV) - Series 3 - Eps 5 - I'll Be There Host Dale Curd speaks with people whose families were emotional rocks for them when the waters of life got rough.\", 'start-time': '2019-07-09 01:30', 'end-time': '2019-07-09 02:00'}, {'title': 'Murdoch Mysteries (HD) (DV)  - Series 8 - Eps 4 - Holy Matrimony Murdoch!As their wedding day approaches, Murdoch and Ogden intervene in the trial of a woman accused of killing her husband.', 'start-time': '2019-07-09 02:00', 'end-time': '2019-07-09 03:00'}, {'title': 'Murdoch Mysteries (HD) (DV)  - Series 8 - Eps 5 - Murdoch Takes ManhattanDuring their honeymoon in New York, Murdoch and Ogden uncover a deadly conspiracy threatening U.S. President Teddy Roosevelt, while Brackenreid and Dr. Grace investigate a murder by motorcar back in Toronto.', 'start-time': '2019-07-09 03:00', 'end-time': '2019-07-09 04:00'}, {'title': \"The National (HD)CBC's flagship newscast, featuring depth and context from the CBC's bureaus across the country and around the world.\", 'start-time': '2019-07-09 04:00', 'end-time': '2019-07-09 05:00'}, {'title': 'Grand Designs (HD)  - Series 12 - Eps 1 - North WalesA couple plan to build a sleek glass-fronted house inspired by the villas of California, high on a cliff top in North Wales.', 'start-time': '2019-07-09 05:00', 'end-time': '2019-07-09 06:00'}, {'title': 'Ottawa MorningJoin Robyn Bresnahan and the Ottawa Morning team for a fresh take on what you need to know to start your day.', 'start-time': '2019-07-09 06:00', 'end-time': '2019-07-09 07:00'}, {'title': \"The Moblees (HD) (DV)  - Series 1 - Eps 21 - Rocking the Blues Away The Moblees get moving to figure out how to make Bailey's pet Mood Rock go from being sad (and blue) to happy (and yellow).\", 'start-time': '2019-07-09 07:00', 'end-time': '2019-07-09 07:15'}, {'title': \"Becca's Bunch (HD)  - Series 1 - Eps 11B - Helper BadgeBecca's Bunch are disheartened when they fail to earn their Happy Helper Day badges - until they find Gill, who needs cleaning. But there's a problem, Gill is the biggest fish in Wagtail and the Bunch are very, very small in comparison.\", 'start-time': '2019-07-09 07:15', 'end-time': '2019-07-09 07:26'}, {'title': 'Big Block Singsong (HD) (DV)  - Series 1 - Eps 37 - Super DuperA superhero block sings a ukelele-fuelled number about doing everything he can to be super.', 'start-time': '2019-07-09 07:26', 'end-time': '2019-07-09 07:30'}, {'title': \"The Furchester Hotel (HD) (DV)  - Series 4 - Eps 32 - Give A Dog A BoneDigby the dog has lost his favourite squeeky toy bone. Phoebe and Elmo help him look all over the hotel for it, but it can't be found anywhere.\", 'start-time': '2019-07-09 07:30', 'end-time': '2019-07-09 07:45'}, {'title': 'Beat Bugs (DV)  - Series 1 - Eps 13A - Carry That Weight The Beat Bugs agree to host a colony of homeless ants.', 'start-time': '2019-07-09 07:45', 'end-time': '2019-07-09 08:00'}, {'title': 'True and the Rainbow Kingdom (HD) (DV)  - Series 1 - Eps 7 - Wishing Heart HollowBartleby protects their picnic from hungry Yetis. The Rainbow King runs into trouble down in the Wishing Heart Hollow.', 'start-time': '2019-07-09 08:00', 'end-time': '2019-07-09 08:26'}, {'title': \"Rusty Rivets (HD) (DV)  - Series 1 - Eps 18A - Rusty's BotafortWhen Rusty, Ruby and Liam build a fort that Botasaur can't fit into, he runs\\r\\naway to make his own fort.\", 'start-time': '2019-07-09 08:26', 'end-time': '2019-07-09 08:37'}, {'title': \"Rusty Rivets (HD) (DV)  - Series 1 - Eps 18B - Rusty's Bull Dozer Rusty and Ruby help Mr. Higgins fix his broken bulldozer, only to have it cause mayhem all over town.\", 'start-time': '2019-07-09 08:37', 'end-time': '2019-07-09 08:48'}, {'title': \"PJ Masks (HD) (DV)  - Series 1 - Eps 20 - Catboy and Teeny Weeny NinjalinoWhen the PJ Masks discover a super teeny Ninjalino in HQ, Owlette and Gekko want to help him, but Catboy worries that he's up to no good and wants to send him away.\", 'start-time': '2019-07-09 08:48', 'end-time': '2019-07-09 09:00'}, {'title': \"Dot (HD) (DV)  - Series 2 - Eps 4 - The Grandparent Trap When Nana extends her visit, Dot decides to play cupid between her and Mr. Sherman, hoping that match-making will help extend Nana's visit forever.\", 'start-time': '2019-07-09 09:00', 'end-time': '2019-07-09 09:13'}, {'title': 'Ride or Wrong (HD) (DV) Unsuspecting contestants answer quiz show questions while riding some of the fastest and tallest amusement park rides.', 'start-time': '2019-07-09 09:13', 'end-time': '2019-07-09 09:16'}, {'title': 'Ride or Wrong (HD) (DV) Unsuspecting contestants answer quiz show questions while riding some of the fastest and tallest amusement park rides.', 'start-time': '2019-07-09 09:16', 'end-time': '2019-07-09 09:19'}, {'title': 'Ride or Wrong (HD) (DV) Unsuspecting contestants answer quiz show questions while riding some of the fastest and tallest amusement park rides.', 'start-time': '2019-07-09 09:19', 'end-time': '2019-07-09 09:22'}, {'title': 'Beat Bugs (DV)  - Series 1 - Eps 13A - Carry That Weight The Beat Bugs agree to host a colony of homeless ants.', 'start-time': '2019-07-09 09:22', 'end-time': '2019-07-09 09:37'}, {'title': \"Wandering Wenda (HD) (DV)  - Series 1 - Eps 22 - The Vengeful Vendetta of the Vaudeville Vampire Our heroes try to stop Vlad, the Vaudeville Vampire's vengeful vendetta against Viewtube viewers.\", 'start-time': '2019-07-09 09:37', 'end-time': '2019-07-09 09:48'}, {'title': \"True and the Rainbow Kingdom (HD) (DV)  - Series 1 - Eps 8 - The Kittynati There's a flood in the forest and True must rescue the forest creatures. Bartleby attempts to earn his Red Tabby Belt at the Kittynati Dojo.\", 'start-time': '2019-07-09 09:48', 'end-time': '2019-07-09 10:12'}, {'title': \"Rusty Rivets (HD) (DV)  - Series 1 - Eps 19A - Rusty's Alien Invasion When the comic book action figures Rusty created for Liam come alive, they\\r\\nbehave just like their conquering characters.\", 'start-time': '2019-07-09 10:12', 'end-time': '2019-07-09 10:23'}, {'title': \"PJ Masks (HD) (DV)  - Series 1 - Eps 21 - Catboy's Tricky TicketCatboy only has two tickets to the Jayden Houston concert and has to decide which of his best friends to take to the show.\", 'start-time': '2019-07-09 10:23', 'end-time': '2019-07-09 10:37'}, {'title': 'Big Block Singsong (HD) (DV)  - Series 1 - Eps 38 - DogA purebred, kibble-fed big block dog with all kinds of swagger lets the rhymes flow.', 'start-time': '2019-07-09 10:37', 'end-time': '2019-07-09 10:39'}, {'title': 'Big Block Singsong (HD) (DV)  - Series 1 - Eps 39 - SkillsA band of big blocks belt out a rocker about being proud of your skills whatever they may be.', 'start-time': '2019-07-09 10:39', 'end-time': '2019-07-09 10:41'}, {'title': 'Will\\'s Jams (HD)  - Series 3 - Eps 5 - Eat a Plum, Yum Yum (DV) A sequel to \"Full of Beans,\" Will returns as a paper doll cut-out dancing across tabletops, in berry patches and amongst tropical foliage as he sings about his favourite fruits.', 'start-time': '2019-07-09 10:41', 'end-time': '2019-07-09 10:46'}, {'title': \"Pablo (HD) (DV)  - Series 1 - Eps 35 - Word SearchWhen Pablo can't find the words to tell Granny what he wants for breakfast his friends have to help him get them to come back again and turn into the things he needs to say.\", 'start-time': '2019-07-09 10:46', 'end-time': '2019-07-09 11:00'}, {'title': \"Dragons' Den (HD) (DV) - Series VIII - Eps 11On this second chance special, Elvis is back in the building; a fitness enthusiast takes a second turn at the Dragons; a pitcher is thirsty for a second chance at a deal.  Plus, brothers who are willing to bet the farm for their business.\", 'start-time': '2019-07-09 11:00', 'end-time': '2019-07-09 12:00'}, {'title': 'CBC News Network (HD)Throughout the day, CBC News Network brings you live, breaking news from Canada and around the world.', 'start-time': '2019-07-09 12:00', 'end-time': '2019-07-09 13:00'}, {'title': 'Escape to the Country (HD) - Series 22 - Eps 49 - North Wales Nicki Chapman is house hunting in North Wales with a couple that wants to turn holiday memories into a retirement dream. While in the area, Nicki tests her head for heights with a spectacular piece of engineering.', 'start-time': '2019-07-09 13:00', 'end-time': '2019-07-09 14:00'}, {'title': 'Grand Designs (HD)  - Series 12 - Eps 2 - North CornwallA product designer and her partner decide to transform a small, single-story bungalow into a cutting edge home, all for a small budget and they are determined to do it all themselves.', 'start-time': '2019-07-09 14:00', 'end-time': '2019-07-09 15:00'}, {'title': \"Heartland (HD) (DV)  - Series VII - Eps 17 - On the LineAmy and Ty are at odds over Ty's risky investment in a barrel racing horse, and things become increasingly complicated when Amy starts working closely with Prince Ahmed.\", 'start-time': '2019-07-09 15:00', 'end-time': '2019-07-09 16:00'}, {'title': \"Paul O'Grady: For the Love of Dogs (HD) - Series 6 - Eps 3 Paul meets a pair of geriatric Labradors who can't bare to be apart for one second, a Staffy who hates being left along and a tiny puppy with an antisocial behaviour problem.\", 'start-time': '2019-07-09 16:00', 'end-time': '2019-07-09 16:30'}, {'title': \"Paul O'Grady: For the Love of Dogs (HD) - Series 6 - Eps 4Paul helps a Staffy lose some weight. He also meets a French Bulldog who's been crippled by greedy breeders and a Puggle called Bruce who's terrified of the world.\", 'start-time': '2019-07-09 16:30', 'end-time': '2019-07-09 17:00'}, {'title': \"Murdoch Mysteries (HD) (DV)  - Series 10 - Eps 7 - Painted LadiesMurdoch suspects a connection between dead men found with lipstick smudges on their faces and Crabtree's burlesque dancer sweetheart.\", 'start-time': '2019-07-09 17:00', 'end-time': '2019-07-09 17:59'}, {'title': \"CBC Ottawa News (HD) Coverage of the day's top local news and developing stories that matter to Canadians.\", 'start-time': '2019-07-09 17:59', 'end-time': '2019-07-09 19:00'}, {'title': \"Kim's Convenience (HD) (DV)  - Series 1 - Eps 13 - Family Singing ContestJanet has big news, but first she, her mother, and Jung have to get through the church family singing festival. Mr. Kim lets the attention from his fancy new SUV go to his head.\", 'start-time': '2019-07-09 19:00', 'end-time': '2019-07-09 19:30'}, {'title': \"Coronation Street (HD) (DV) - Eps. #9806Tracy rushes to Yasmeen's aid. Michelle assumes that Robert is making wedding plans. Sarah gives Gary a warning.\", 'start-time': '2019-07-09 19:30', 'end-time': '2019-07-09 20:00'}, {'title': \"Kim's Convenience (HD) (DV)  - Series 3 - Eps 4 - Thy Neighbour's WifiAppa tests neighbourly boundaries when he tries to get cheap wifi.  Umma forces Janet to do a questionable reading at Church and Jung hits it off with Shannon's friend, Katie.\", 'start-time': '2019-07-09 20:00', 'end-time': '2019-07-09 20:30'}, {'title': 'Still Standing (HD) (DV)  - Series 4 - Eps 4 - Fraser Lake, BCThe people of Fraser Lake recently took a one-two punch; they lost both their largest employer and their only grocery store. But the people in this hidden gem of a town have grit for days and they are going above and beyond to take care of their own.', 'start-time': '2019-07-09 20:30', 'end-time': '2019-07-09 21:00'}, {'title': \"Schitt's Creek (HD) (DV)  - Series 5 - Eps 4 - The DressJohnny finds himself under financial pressure with the arrival of Moira's high-priced red carpet gown for the Crows movie premiere. David is conned into taking a road trip with Stevie.\", 'start-time': '2019-07-09 21:00', 'end-time': '2019-07-09 21:30'}, {'title': \"Workin' Moms (HD) (DV)  - Series 3 - Eps 4 - Training DayWhile pursuing new business, Kate confronts an old foe. When Alice decides she's ready to take the subway alone, Anne takes anti-pervert training into overdrive. Frankie finds out Bianca has big life plans and decides to help.\", 'start-time': '2019-07-09 21:30', 'end-time': '2019-07-09 22:00'}, {'title': \"The National (HD)CBC's flagship newscast, featuring depth and context from the CBC's bureaus across the country and around the world.\", 'start-time': '2019-07-09 22:00', 'end-time': '2019-07-09 23:00'}, {'title': \"CBC Ottawa News (HD) Coverage of the day's top local news and developing stories that matter to Canadians.\", 'start-time': '2019-07-09 23:00', 'end-time': '2019-07-09 23:30'}, {'title': 'Calgary Stampede: Stampede Wrap Day #5 (HD) Featuring Stampede Wrap Day #5 from Calgary, Alberta.', 'start-time': '2019-07-09 23:30', 'end-time': '2019-07-10 00:00'}]\n"
     ]
    }
   ],
   "source": [
    "import json\n",
    "import pandas as pd\n",
    "import numpy as np\n",
    "import requests\n",
    "import urllib.request\n",
    "from bs4 import BeautifulSoup\n",
    "import time\n",
    "\n",
    "# why isn't there a CBC API for this schedule?!\n",
    "\n",
    "r = requests.get('https://www.cbc.ca/programguide/daily/today/cbc_radio_two')\n",
    "soup = BeautifulSoup(r.text)\n",
    "\n",
    "table = soup.find(id='sched-table')\n",
    "times = soup.find_all(class_='time')\n",
    "programs = soup.find_all(class_='program')\n",
    "\n",
    "count = 0\n",
    "schedule = [];\n",
    "for program in programs:\n",
    "    title = program.text.strip()\n",
    "    start_time = times[count][\"data-start-time\"]\n",
    "    end_time = times[count][\"data-end-time\"]\n",
    "    program = {\n",
    "            \"title\":title,\n",
    "            \"start-time\":start_time,\n",
    "            \"end-time\":end_time\n",
    "            }\n",
    "    schedule.append(program)    \n",
    "    # print(\"title: \", time)\n",
    "    count += 1\n",
    "\n",
    "print(\"schedule: \", schedule)"
   ]
  },
  {
   "cell_type": "code",
   "execution_count": null,
   "metadata": {},
   "outputs": [],
   "source": []
  }
 ],
 "metadata": {
  "kernelspec": {
   "display_name": "Python 3",
   "language": "python",
   "name": "python3"
  },
  "language_info": {
   "codemirror_mode": {
    "name": "ipython",
    "version": 3
   },
   "file_extension": ".py",
   "mimetype": "text/x-python",
   "name": "python",
   "nbconvert_exporter": "python",
   "pygments_lexer": "ipython3",
   "version": "3.6.6"
  }
 },
 "nbformat": 4,
 "nbformat_minor": 2
}
