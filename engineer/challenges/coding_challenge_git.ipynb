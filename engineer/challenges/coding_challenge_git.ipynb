{
 "cells": [
  {
   "cell_type": "markdown",
   "id": "5687696f-6b81-43ff-aeb3-537a0cd3abb5",
   "metadata": {},
   "source": [
    "## Coding Challenging\n",
    "\n",
    "The challenge was to process a series of files as it they were destined for Git.  \n",
    "\n",
    "My files are the base files and I need to compare them against the head files. \n",
    "\n",
    "## Base \n",
    "- file 1 = abc\n",
    "- file 3 = efg\n",
    "- file 4 = abc\n",
    "- file 5 = ccc\n",
    "\n",
    "## HEAD\n",
    "- file 2 = cdd\n",
    "- file 3 = efg\n",
    "- file 4 = abb\n",
    "\n",
    "I have been asked to determine what files have been added, removed or mutated. \n",
    "\n",
    "## Research\n",
    "\n",
    "* [python-compare-two-lists-of-dictionaries](https://devqa.io/python-compare-two-lists-of-dictionaries/)\n",
    "* [python-list-of-dictionaries-search](https://stackoverflow.com/questions/8653516/python-list-of-dictionaries-search)\n",
    "\n",
    "\n"
   ]
  },
  {
   "cell_type": "code",
   "execution_count": 109,
   "id": "be3eca4a-c0ff-4458-b355-008c3901cc1d",
   "metadata": {},
   "outputs": [],
   "source": [
    "import functools \n",
    "\n",
    "# the base files are my files that I want to commit - I'm updating file 4, adding file 1 & 5, and removing file 2\n",
    "base_files = [{\"name\": \"file 1\", \"hash\": \"abc\"}, \n",
    "              {\"name\": \"file 3\", \"hash\": \"efg\"}, \n",
    "              {\"name\": \"file 4\", \"hash\": \"abc\"}, \n",
    "              {\"name\": \"file 5\", \"hash\": \"ccc\"}];\n",
    "\n",
    "# the head files are the ones I want to compare mine against \n",
    "head_files = [{\"name\": \"file 2\", \"hash\": \"cdd\"}, \n",
    "              {\"name\": \"file 3\", \"hash\": \"efg\"}, \n",
    "              {\"name\": \"file 4\", \"hash\": \"abb\"}];\n"
   ]
  },
  {
   "cell_type": "code",
   "execution_count": 132,
   "id": "6e7669d3-f4fb-4cf4-bc88-879e19c98d49",
   "metadata": {},
   "outputs": [],
   "source": [
    "def compare_lists(base_files, head_files):\n",
    "    # is this \n",
    "    mutated = []\n",
    "    added = []\n",
    "    removed = []\n",
    "    \n",
    "    for head_model in head_files:\n",
    "\n",
    "        search_head = list(filter(lambda model: model['name'] == head_model['name'], base_files))\n",
    "        result_head = len(search_head) == 0\n",
    "        if result_head:\n",
    "            removed.append(head_model)\n",
    "    \n",
    "    for base_model in base_files: \n",
    "        # did I find base?\n",
    "        search_base = list(filter(lambda model: model['name'] == base_model['name'], head_files))\n",
    "        result_base = len(search_base) == 0\n",
    "        if result_base:\n",
    "            added.append(base_model)\n",
    "        for head_model in head_files:\n",
    "            if base_model[\"name\"] == head_model[\"name\"] and base_model[\"hash\"] != head_model[\"hash\"]:\n",
    "                # ok this file name exists in both but the data changed\n",
    "                mutated.append(base_model)\n",
    "                # break\n",
    "            elif base_model[\"name\"] == head_model[\"name\"]:\n",
    "                break\n",
    "\n",
    "                                      \n",
    "    return {\"mutated\":mutated, \"added\":added, \"removed\":removed}                                             \n",
    "\n",
    "result_dict = compare_lists(base_files, head_files)\n",
    "\n"
   ]
  },
  {
   "cell_type": "code",
   "execution_count": 128,
   "id": "5c1cc50e-53ba-4390-9207-e1e2db3739e6",
   "metadata": {},
   "outputs": [
    {
     "data": {
      "text/plain": [
       "[{'name': 'file 1', 'hash': 'abc'}, {'name': 'file 5', 'hash': 'ccc'}]"
      ]
     },
     "execution_count": 128,
     "metadata": {},
     "output_type": "execute_result"
    }
   ],
   "source": [
    "# what files have been added? I expect to see that file 1 & file 5 were added.\n",
    "result_dict.get(\"added\")"
   ]
  },
  {
   "cell_type": "code",
   "execution_count": 130,
   "id": "5fcd9488-d36f-4788-b66e-12ad45905b76",
   "metadata": {},
   "outputs": [
    {
     "data": {
      "text/plain": [
       "[{'name': 'file 2', 'hash': 'cdd'}]"
      ]
     },
     "execution_count": 130,
     "metadata": {},
     "output_type": "execute_result"
    }
   ],
   "source": [
    "# what files have been removed? I expect to see that file 2 removed - I need to fix my file marking since a file can't be both added and removed!\n",
    "result_dict.get(\"removed\")"
   ]
  },
  {
   "cell_type": "code",
   "execution_count": 131,
   "id": "06cd190d-b853-402e-9ded-c50b82303632",
   "metadata": {},
   "outputs": [
    {
     "data": {
      "text/plain": [
       "[{'name': 'file 4', 'hash': 'abc'}]"
      ]
     },
     "execution_count": 131,
     "metadata": {},
     "output_type": "execute_result"
    }
   ],
   "source": [
    "# what files have been mutated? I expect file 4 to be have changed.\n",
    "result_dict.get(\"mutated\")"
   ]
  }
 ],
 "metadata": {
  "kernelspec": {
   "display_name": "Python 3 (ipykernel)",
   "language": "python",
   "name": "python3"
  },
  "language_info": {
   "codemirror_mode": {
    "name": "ipython",
    "version": 3
   },
   "file_extension": ".py",
   "mimetype": "text/x-python",
   "name": "python",
   "nbconvert_exporter": "python",
   "pygments_lexer": "ipython3",
   "version": "3.9.7"
  }
 },
 "nbformat": 4,
 "nbformat_minor": 5
}
