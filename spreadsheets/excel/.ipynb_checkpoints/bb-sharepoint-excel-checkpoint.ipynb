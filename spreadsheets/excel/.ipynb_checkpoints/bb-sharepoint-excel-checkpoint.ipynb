{
 "cells": [
  {
   "cell_type": "code",
   "execution_count": 6,
   "metadata": {},
   "outputs": [
    {
     "name": "stdout",
     "output_type": "stream",
     "text": [
      "Invalid Request: AADSTS90023: Invalid STS request\n"
     ]
    }
   ],
   "source": [
    "import sharepy\n",
    "import pandas as pd\n",
    "\n",
    "url='https://mtcad-my.sharepoint.com/:x:/r/personal/aurore_billou_loblaw_ca'\n",
    "username= 'brandon.flowers@loblaw.ca'\n",
    "password= 'New!2User'\n",
    "sharepointConnection = sharepy.connect(url, username=username, password=password)\n",
    "\n",
    "# sharepointConnection = sharepy.connect(\"COMPANY-SHAREPOINT-URL\", \"USER-EMAIL-ADDRESS\", \"USER-EMAIL-PASSWORD\")\n",
    "# Will only list files in the directory. Folders are disregarded.\n",
    "\n",
    "# \"https://mtcad-my.sharepoint.com/:x:/r/personal/aurore_billou_loblaw_ca\n",
    "# /_layouts/15/Doc.aspx?sourcedoc=%7B3D9AC622-BDAD-4FA0-BF90-3B3FE4943597%7D&file=SDM%20Trade%20Dashboard%202020.xlsx\n",
    "# &action=default&mobileredirect=true&cid=913d3fc9-892a-4095-b093-5ab199c95217\")\n",
    "\n",
    "jsonfileList = sharepointConnection.get(\"https://COMPANY-SHAREPOINT-URL/personal/USER-EMAIL-ADDRESS/_api/web/GetFolderByServerRelativeUrl('Documents/FOLDER-NAME')/files?$select=Name\")\n",
    "\n",
    "# s = sharepy.connect(\"https://mtcad-my.sharepoint.com/:x:/r/personal/aurore_billou_loblaw_ca\")\n",
    "\n",
    "\n"
   ]
  },
  {
   "cell_type": "code",
   "execution_count": null,
   "metadata": {},
   "outputs": [],
   "source": [
    "r = s.getfile(\"https://mtcad-my.sharepoint.com/:x:/r/personal/aurore_billou_loblaw_ca/_layouts/15/Doc.aspx?sourcedoc=%7B3D9AC622-BDAD-4FA0-BF90-3B3FE4943597%7D&file=SDM%20Trade%20Dashboard%202020.xlsx&action=default&mobileredirect=true&cid=913d3fc9-892a-4095-b093-5ab199c95217\")"
   ]
  }
 ],
 "metadata": {
  "kernelspec": {
   "display_name": "Python 3",
   "language": "python",
   "name": "python3"
  },
  "language_info": {
   "codemirror_mode": {
    "name": "ipython",
    "version": 3
   },
   "file_extension": ".py",
   "mimetype": "text/x-python",
   "name": "python",
   "nbconvert_exporter": "python",
   "pygments_lexer": "ipython3",
   "version": "3.7.7"
  }
 },
 "nbformat": 4,
 "nbformat_minor": 4
}
