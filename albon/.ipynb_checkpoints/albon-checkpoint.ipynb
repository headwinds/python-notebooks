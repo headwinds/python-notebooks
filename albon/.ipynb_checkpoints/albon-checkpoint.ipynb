{
 "cells": [
  {
   "cell_type": "markdown",
   "metadata": {},
   "source": [
    "[Chris Albon](https://chrisalbon.com) has an awesome collection of article for aspiring data scientists.\n",
    "\n",
    "I want to visualize and track my progress through this link forest. \n",
    "\n",
    "\n",
    "credits\n",
    "\n",
    "[how-to-scrape-web-pages-with-beautiful-soup-and-python-3](https://www.digitalocean.com/community/tutorials/how-to-scrape-web-pages-with-beautiful-soup-and-python-3)"
   ]
  },
  {
   "cell_type": "code",
   "execution_count": 24,
   "metadata": {},
   "outputs": [],
   "source": [
    "import csv\n",
    "import pandas as pd\n",
    "import numpy as np\n",
    "import requests\n",
    "from bs4 import BeautifulSoup\n",
    "\n",
    "# Collect first page of artists’ list\n",
    "url = \"https://chrisalbon.com/#articles\"\n",
    "page = requests.get(url)\n",
    "\n",
    "soup = BeautifulSoup(page.text, 'html.parser')\n",
    "\n",
    "# Pull all text from the BodyText div\n",
    "cards = soup.find_all(class_='card')\n",
    "\n",
    "# Create a file to write to, add headers row\n",
    "f = csv.writer(open('albon.csv', 'w'))\n",
    "f.writerow(['Name', 'Link', 'Category'])\n",
    "\n",
    "titles = []\n",
    "def getLinksFromCards(cards): \n",
    "    for card in cards:\n",
    "        h4 = card.find('h4')\n",
    "        # souph4 = BeautifulSoup(\"\"\"<h1>Hello</h1><p>World</p>\"\"\", 'html.parser')\n",
    "        category = str(h4)\n",
    "        title = BeautifulSoup(category, 'html.parser').text.strip()\n",
    "        print(title)\n",
    "        titles.append(title)\n",
    "        links = card.find_all('a')\n",
    "       \n",
    "        for link in links:\n",
    "            # print(link.prettify())\n",
    "            name = link.contents[0]\n",
    "            link = link.get('href')\n",
    "            # Add each artist’s name and associated link to a row\n",
    "            f.writerow([name, link, title])\n",
    "        \n",
    "getLinksFromCards(cards)\n",
    "\n"
   ]
  },
  {
   "cell_type": "code",
   "execution_count": null,
   "metadata": {},
   "outputs": [],
   "source": []
  }
 ],
 "metadata": {
  "kernelspec": {
   "display_name": "Python 3",
   "language": "python",
   "name": "python3"
  },
  "language_info": {
   "codemirror_mode": {
    "name": "ipython",
    "version": 3
   },
   "file_extension": ".py",
   "mimetype": "text/x-python",
   "name": "python",
   "nbconvert_exporter": "python",
   "pygments_lexer": "ipython3",
   "version": "3.6.4"
  }
 },
 "nbformat": 4,
 "nbformat_minor": 2
}
