{
 "cells": [
  {
   "cell_type": "markdown",
   "metadata": {},
   "source": [
    "## Columns \n",
    "* name - definition - type\n",
    "* case_id - uswtdb id - Numeric\n",
    "* faa_ors - unique identifier for each turbine for cross-reference to the faa digital obstacle files (faa dof ) - String\n",
    "* faa_asn - obstruction evaluation airport airspace analysis (oe-aaa) aeronautical study number (asn) - String\n",
    "* usgs_pr_id - unique, stable object number for cross-reference - Numeric\n",
    "* t_state - US State - String\n",
    "* t_county - US County - String\n",
    "* t_fips - state and county fips (a 5 digit code) where turbine is located, based on spatial join of turbine points with US state and county shapefile. - Numeric\n",
    "* p_name - Wind project name - String\n",
    "* p_year - Year wind project online - Numeric\n",
    "* p_tnum - number of turbines in the wind power project - Numeric\n",
    "* p_cap - Project total capacity - Numeric\n",
    "* t_manu - Turbine manufacturer - String\n",
    "* t_model - Turbine model - String\n",
    "* t_cap - Turbine capacity [kW] - Numeric\n",
    "* t_hh - Turbine hub height [m] - Numeric\n",
    "* t_rd - Turbine rotor diameter [m] - Numeric\n",
    "* t_rsa - Turbine rotor swept area [m2] - Numeric\n",
    "* t_ttlh - Turbine tip height [m] - Numeric\n",
    "* t_conf_atr - Level of confidence in the turbine's attributes, from low to high - Numeric\n",
    "* t_conf_loc - Level of confidence in turbine location, from low to high - Numeric\n",
    "* t_img_date - date of image used to visually verify turbine location (note if NAIP is the image source the month and day were set to 01/01) - DateTime\n",
    "* t_img_srce - source of image used to visually verify turbine location - String\n",
    "* xlong - Turbine latitude - Numeric\n",
    "* ylat - Turbine longitude - Numeric"
   ]
  },
  {
   "cell_type": "code",
   "execution_count": 38,
   "metadata": {},
   "outputs": [
    {
     "data": {
      "text/plain": [
       "(3662, 10)"
      ]
     },
     "execution_count": 38,
     "metadata": {},
     "output_type": "execute_result"
    }
   ],
   "source": [
    "import pandas as pd\n",
    "import numpy as np\n",
    "\n",
    "wind = pd.read_csv('uswtdb_v1_0_20180419.csv') \n",
    "\n",
    "# train = pd.read_csv('train.csv')\n",
    "# test = pd.read_csv('test.csv')\n",
    "\n",
    "\n",
    "wind_set = wind[['t_state','p_name','p_year','t_manu','t_model','t_cap','p_cap','t_rd','xlong','ylat']]\n",
    "wind_set_decadeA = wind_set.query('p_year>2016')\n",
    "\n",
    "# wind.shape (57636, 24)\n",
    "# wind.dtypes.sample(10)\n",
    "# wind.shape\n",
    "\n",
    "# wind_new = wind.drop(wind.columns[[1, 2]], axis=1, inplace=True)\n",
    "# wind_state_encoded = pd.get_dummies(wind_set)\n",
    "# wind_set_decadeA.head()\n",
    "wind_set_decadeA.shape"
   ]
  },
  {
   "cell_type": "code",
   "execution_count": 11,
   "metadata": {},
   "outputs": [
    {
     "data": {
      "text/html": [
       "<div>\n",
       "<style scoped>\n",
       "    .dataframe tbody tr th:only-of-type {\n",
       "        vertical-align: middle;\n",
       "    }\n",
       "\n",
       "    .dataframe tbody tr th {\n",
       "        vertical-align: top;\n",
       "    }\n",
       "\n",
       "    .dataframe thead th {\n",
       "        text-align: right;\n",
       "    }\n",
       "</style>\n",
       "<table border=\"1\" class=\"dataframe\">\n",
       "  <thead>\n",
       "    <tr style=\"text-align: right;\">\n",
       "      <th></th>\n",
       "      <th>p_year</th>\n",
       "      <th>t_cap</th>\n",
       "      <th>p_cap</th>\n",
       "      <th>t_rd</th>\n",
       "    </tr>\n",
       "  </thead>\n",
       "  <tbody>\n",
       "    <tr>\n",
       "      <th>count</th>\n",
       "      <td>57636.000000</td>\n",
       "      <td>57636.000000</td>\n",
       "      <td>57636.000000</td>\n",
       "      <td>57636.000000</td>\n",
       "    </tr>\n",
       "    <tr>\n",
       "      <th>mean</th>\n",
       "      <td>1983.664064</td>\n",
       "      <td>1019.504997</td>\n",
       "      <td>-395.576543</td>\n",
       "      <td>-815.673393</td>\n",
       "    </tr>\n",
       "    <tr>\n",
       "      <th>std</th>\n",
       "      <td>531.182367</td>\n",
       "      <td>2686.506833</td>\n",
       "      <td>2262.213695</td>\n",
       "      <td>2872.746063</td>\n",
       "    </tr>\n",
       "    <tr>\n",
       "      <th>min</th>\n",
       "      <td>-9999.000000</td>\n",
       "      <td>-9999.000000</td>\n",
       "      <td>-9999.000000</td>\n",
       "      <td>-9999.000000</td>\n",
       "    </tr>\n",
       "    <tr>\n",
       "      <th>25%</th>\n",
       "      <td>2006.000000</td>\n",
       "      <td>1500.000000</td>\n",
       "      <td>61.000000</td>\n",
       "      <td>70.000000</td>\n",
       "    </tr>\n",
       "    <tr>\n",
       "      <th>50%</th>\n",
       "      <td>2009.000000</td>\n",
       "      <td>1600.000000</td>\n",
       "      <td>118.500000</td>\n",
       "      <td>82.500000</td>\n",
       "    </tr>\n",
       "    <tr>\n",
       "      <th>75%</th>\n",
       "      <td>2013.000000</td>\n",
       "      <td>2000.000000</td>\n",
       "      <td>198.000000</td>\n",
       "      <td>100.000000</td>\n",
       "    </tr>\n",
       "    <tr>\n",
       "      <th>max</th>\n",
       "      <td>2018.000000</td>\n",
       "      <td>6000.000000</td>\n",
       "      <td>495.010000</td>\n",
       "      <td>150.000000</td>\n",
       "    </tr>\n",
       "  </tbody>\n",
       "</table>\n",
       "</div>"
      ],
      "text/plain": [
       "             p_year         t_cap         p_cap          t_rd\n",
       "count  57636.000000  57636.000000  57636.000000  57636.000000\n",
       "mean    1983.664064   1019.504997   -395.576543   -815.673393\n",
       "std      531.182367   2686.506833   2262.213695   2872.746063\n",
       "min    -9999.000000  -9999.000000  -9999.000000  -9999.000000\n",
       "25%     2006.000000   1500.000000     61.000000     70.000000\n",
       "50%     2009.000000   1600.000000    118.500000     82.500000\n",
       "75%     2013.000000   2000.000000    198.000000    100.000000\n",
       "max     2018.000000   6000.000000    495.010000    150.000000"
      ]
     },
     "execution_count": 11,
     "metadata": {},
     "output_type": "execute_result"
    }
   ],
   "source": [
    "wind_set.dropna().describe()"
   ]
  },
  {
   "cell_type": "code",
   "execution_count": 29,
   "metadata": {},
   "outputs": [
    {
     "data": {
      "text/html": [
       "<div>\n",
       "<style scoped>\n",
       "    .dataframe tbody tr th:only-of-type {\n",
       "        vertical-align: middle;\n",
       "    }\n",
       "\n",
       "    .dataframe tbody tr th {\n",
       "        vertical-align: top;\n",
       "    }\n",
       "\n",
       "    .dataframe thead th {\n",
       "        text-align: right;\n",
       "    }\n",
       "</style>\n",
       "<table border=\"1\" class=\"dataframe\">\n",
       "  <thead>\n",
       "    <tr style=\"text-align: right;\">\n",
       "      <th></th>\n",
       "      <th>t_state</th>\n",
       "      <th>p_name</th>\n",
       "      <th>t_manu</th>\n",
       "      <th>t_model</th>\n",
       "      <th>t_cap</th>\n",
       "      <th>p_cap</th>\n",
       "      <th>t_rd</th>\n",
       "      <th>xlong</th>\n",
       "      <th>ylat</th>\n",
       "    </tr>\n",
       "    <tr>\n",
       "      <th>p_year</th>\n",
       "      <th></th>\n",
       "      <th></th>\n",
       "      <th></th>\n",
       "      <th></th>\n",
       "      <th></th>\n",
       "      <th></th>\n",
       "      <th></th>\n",
       "      <th></th>\n",
       "      <th></th>\n",
       "    </tr>\n",
       "  </thead>\n",
       "  <tbody>\n",
       "    <tr>\n",
       "      <th>2010</th>\n",
       "      <td>2956</td>\n",
       "      <td>2956</td>\n",
       "      <td>2956</td>\n",
       "      <td>2956</td>\n",
       "      <td>2956</td>\n",
       "      <td>2956</td>\n",
       "      <td>2956</td>\n",
       "      <td>2956</td>\n",
       "      <td>2956</td>\n",
       "    </tr>\n",
       "    <tr>\n",
       "      <th>2011</th>\n",
       "      <td>3511</td>\n",
       "      <td>3511</td>\n",
       "      <td>3511</td>\n",
       "      <td>3511</td>\n",
       "      <td>3511</td>\n",
       "      <td>3511</td>\n",
       "      <td>3511</td>\n",
       "      <td>3511</td>\n",
       "      <td>3511</td>\n",
       "    </tr>\n",
       "    <tr>\n",
       "      <th>2012</th>\n",
       "      <td>6775</td>\n",
       "      <td>6775</td>\n",
       "      <td>6775</td>\n",
       "      <td>6775</td>\n",
       "      <td>6775</td>\n",
       "      <td>6775</td>\n",
       "      <td>6775</td>\n",
       "      <td>6775</td>\n",
       "      <td>6775</td>\n",
       "    </tr>\n",
       "    <tr>\n",
       "      <th>2013</th>\n",
       "      <td>616</td>\n",
       "      <td>616</td>\n",
       "      <td>616</td>\n",
       "      <td>616</td>\n",
       "      <td>616</td>\n",
       "      <td>616</td>\n",
       "      <td>616</td>\n",
       "      <td>616</td>\n",
       "      <td>616</td>\n",
       "    </tr>\n",
       "    <tr>\n",
       "      <th>2014</th>\n",
       "      <td>2520</td>\n",
       "      <td>2520</td>\n",
       "      <td>2520</td>\n",
       "      <td>2520</td>\n",
       "      <td>2520</td>\n",
       "      <td>2520</td>\n",
       "      <td>2520</td>\n",
       "      <td>2520</td>\n",
       "      <td>2520</td>\n",
       "    </tr>\n",
       "  </tbody>\n",
       "</table>\n",
       "</div>"
      ],
      "text/plain": [
       "        t_state  p_name  t_manu  t_model  t_cap  p_cap  t_rd  xlong  ylat\n",
       "p_year                                                                   \n",
       "2010       2956    2956    2956     2956   2956   2956  2956   2956  2956\n",
       "2011       3511    3511    3511     3511   3511   3511  3511   3511  3511\n",
       "2012       6775    6775    6775     6775   6775   6775  6775   6775  6775\n",
       "2013        616     616     616      616    616    616   616    616   616\n",
       "2014       2520    2520    2520     2520   2520   2520  2520   2520  2520"
      ]
     },
     "execution_count": 29,
     "metadata": {},
     "output_type": "execute_result"
    }
   ],
   "source": [
    "# wind_set_decade = wind_set.query('p_year>2007')\n",
    "# wind_set_decade = wind_set.filter(lambda x: x['p_year'] > 2010.)\n",
    "#\n",
    "wind_groupby_year = wind_set.groupby('p_year').count()\n",
    "wind_set_decade = wind_groupby_year.query('p_year>2009')\n",
    "wind_set_decade.head()\n",
    "# print (\"Skew is:\", wind_set_decade.t_cap.skew())\n",
    "# wind_set_decade.columns"
   ]
  },
  {
   "cell_type": "code",
   "execution_count": 48,
   "metadata": {},
   "outputs": [
    {
     "data": {
      "text/plain": [
       "37"
      ]
     },
     "execution_count": 48,
     "metadata": {},
     "output_type": "execute_result"
    }
   ],
   "source": [
    "grouped = wind_set.groupby('p_year')\n",
    "len(grouped)"
   ]
  },
  {
   "cell_type": "code",
   "execution_count": 13,
   "metadata": {},
   "outputs": [
    {
     "name": "stdout",
     "output_type": "stream",
     "text": [
      "t_cap     1.000000\n",
      "p_cap     0.967510\n",
      "t_rd      0.781157\n",
      "p_year    0.050224\n",
      "Name: t_cap, dtype: float64 \n",
      "\n",
      "t_cap     1.000000\n",
      "p_cap     0.967510\n",
      "t_rd      0.781157\n",
      "p_year    0.050224\n",
      "Name: t_cap, dtype: float64\n"
     ]
    }
   ],
   "source": [
    "numeric_features = wind_set.select_dtypes(include=[np.number])\n",
    "# numeric_features.dtypes\n",
    "corr = numeric_features.corr()\n",
    "\n",
    "print (corr['t_cap'].sort_values(ascending=False)[:5], '\\n')\n",
    "print (corr['t_cap'].sort_values(ascending=False)[-5:])"
   ]
  },
  {
   "cell_type": "code",
   "execution_count": 14,
   "metadata": {},
   "outputs": [
    {
     "ename": "NameError",
     "evalue": "name 'wind_state_encoded' is not defined",
     "output_type": "error",
     "traceback": [
      "\u001b[0;31m---------------------------------------------------------------------------\u001b[0m",
      "\u001b[0;31mNameError\u001b[0m                                 Traceback (most recent call last)",
      "\u001b[0;32m<ipython-input-14-1b0f3a6722e4>\u001b[0m in \u001b[0;36m<module>\u001b[0;34m()\u001b[0m\n\u001b[1;32m     15\u001b[0m \u001b[0;31m# mae_without_categoricals = get_mae(predictors_without_categoricals, target)\u001b[0m\u001b[0;34m\u001b[0m\u001b[0;34m\u001b[0m\u001b[0m\n\u001b[1;32m     16\u001b[0m \u001b[0;34m\u001b[0m\u001b[0m\n\u001b[0;32m---> 17\u001b[0;31m \u001b[0mmae_one_hot_encoded\u001b[0m \u001b[0;34m=\u001b[0m \u001b[0mget_mae\u001b[0m\u001b[0;34m(\u001b[0m\u001b[0mwind_state_encoded\u001b[0m\u001b[0;34m,\u001b[0m \u001b[0mtarget\u001b[0m\u001b[0;34m)\u001b[0m\u001b[0;34m\u001b[0m\u001b[0m\n\u001b[0m\u001b[1;32m     18\u001b[0m \u001b[0;34m\u001b[0m\u001b[0m\n\u001b[1;32m     19\u001b[0m \u001b[0;31m# print('Mean Absolute Error when Dropping Categoricals: ' + str(int(mae_without_categoricals)))\u001b[0m\u001b[0;34m\u001b[0m\u001b[0;34m\u001b[0m\u001b[0m\n",
      "\u001b[0;31mNameError\u001b[0m: name 'wind_state_encoded' is not defined"
     ]
    }
   ],
   "source": [
    "\n",
    "target = wind_set.p_cap\n",
    "\n",
    "from sklearn.model_selection import cross_val_score\n",
    "from sklearn.ensemble import RandomForestRegressor\n",
    "\n",
    "def get_mae(X, y):\n",
    "    # multiple by -1 to make positive MAE score instead of neg value returned as sklearn convention\n",
    "    return -1 * cross_val_score(RandomForestRegressor(50), \n",
    "                                X, y, \n",
    "                                scoring = 'neg_mean_absolute_error').mean()\n",
    "\n",
    "# drops categoricals \n",
    "# predictors_without_categoricals = train_predictors.select_dtypes(exclude=['object'])\n",
    "# mae_without_categoricals = get_mae(predictors_without_categoricals, target)\n",
    "\n",
    "mae_one_hot_encoded = get_mae(wind_state_encoded, target)\n",
    "\n",
    "# print('Mean Absolute Error when Dropping Categoricals: ' + str(int(mae_without_categoricals)))\n",
    "print('Mean Abslute Error with One-Hot Encoding: ' + str(int(mae_one_hot_encoded)))\n",
    "\n"
   ]
  },
  {
   "cell_type": "code",
   "execution_count": 4,
   "metadata": {},
   "outputs": [
    {
     "name": "stdout",
     "output_type": "stream",
     "text": [
      "Skew is: -22.507854997262992\n"
     ]
    },
    {
     "data": {
      "text/plain": [
       "<matplotlib.figure.Figure at 0x11490df28>"
      ]
     },
     "metadata": {},
     "output_type": "display_data"
    }
   ],
   "source": [
    "import matplotlib.pyplot as plt\n",
    "plt.style.use(style='ggplot')\n",
    "plt.rcParams['figure.figsize'] = (10, 10)\n",
    "\n",
    "# I should see the distrubution of the year that turbines went online\n",
    " \n",
    "print (\"Skew is:\", wind_set.p_year.skew())\n",
    "plt.hist(wind_set.p_year, color='gold')\n",
    "plt.show()"
   ]
  },
  {
   "cell_type": "code",
   "execution_count": 32,
   "metadata": {},
   "outputs": [
    {
     "data": {
      "image/png": "[encoded data removed]",
      "text/plain": [
       "<matplotlib.figure.Figure at 0x1145bd6d8>"
      ]
     },
     "metadata": {},
     "output_type": "display_data"
    }
   ],
   "source": [
    "condition_pivot = wind_set_decade.pivot_table(index='p_year',\n",
    "                                    values='p_cap', aggfunc=np.median)\n",
    "\n",
    "condition_pivot.plot(kind='bar', color='blue')\n",
    "plt.xlabel('Year')\n",
    "plt.ylabel('Median Power Capacity')\n",
    "plt.xticks(rotation=0)\n",
    "plt.show()"
   ]
  },
  {
   "cell_type": "code",
   "execution_count": 35,
   "metadata": {},
   "outputs": [
    {
     "name": "stdout",
     "output_type": "stream",
     "text": [
      "              name  salary  year\n",
      "Facebook       Bob   24000  2012\n",
      "Apple      Charles   31000  2013\n",
      "Microsoft    David   20000  2014\n",
      "Google        Eric   30000  2015\n"
     ]
    }
   ],
   "source": [
    "data = {'name': ['Alice', 'Bob', 'Charles', 'David', 'Eric'],\n",
    "        'year': [2010, 2012, 2013, 2014, 2015],\n",
    "        'salary': [40000, 24000, 31000, 20000, 30000]}\n",
    " \n",
    "df = pd.DataFrame(data, index = ['Samsung', 'Facebook', 'Apple', 'Microsoft', 'Google'])\n",
    "df_filtered = df.query('year>2011')\n",
    "print(df_filtered)"
   ]
  },
  {
   "cell_type": "code",
   "execution_count": 38,
   "metadata": {},
   "outputs": [
    {
     "data": {
      "text/html": [
       "<div>\n",
       "<style scoped>\n",
       "    .dataframe tbody tr th:only-of-type {\n",
       "        vertical-align: middle;\n",
       "    }\n",
       "\n",
       "    .dataframe tbody tr th {\n",
       "        vertical-align: top;\n",
       "    }\n",
       "\n",
       "    .dataframe thead th {\n",
       "        text-align: right;\n",
       "    }\n",
       "</style>\n",
       "<table border=\"1\" class=\"dataframe\">\n",
       "  <thead>\n",
       "    <tr style=\"text-align: right;\">\n",
       "      <th></th>\n",
       "      <th>name</th>\n",
       "      <th>salary</th>\n",
       "      <th>year</th>\n",
       "    </tr>\n",
       "  </thead>\n",
       "  <tbody>\n",
       "    <tr>\n",
       "      <th>Samsung</th>\n",
       "      <td>Alice</td>\n",
       "      <td>40000</td>\n",
       "      <td>2010</td>\n",
       "    </tr>\n",
       "    <tr>\n",
       "      <th>Facebook</th>\n",
       "      <td>Bob</td>\n",
       "      <td>24000</td>\n",
       "      <td>2012</td>\n",
       "    </tr>\n",
       "    <tr>\n",
       "      <th>Apple</th>\n",
       "      <td>Charles</td>\n",
       "      <td>31000</td>\n",
       "      <td>2013</td>\n",
       "    </tr>\n",
       "    <tr>\n",
       "      <th>Google</th>\n",
       "      <td>Eric</td>\n",
       "      <td>30000</td>\n",
       "      <td>2015</td>\n",
       "    </tr>\n",
       "  </tbody>\n",
       "</table>\n",
       "</div>"
      ],
      "text/plain": [
       "             name  salary  year\n",
       "Samsung     Alice   40000  2010\n",
       "Facebook      Bob   24000  2012\n",
       "Apple     Charles   31000  2013\n",
       "Google       Eric   30000  2015"
      ]
     },
     "execution_count": 38,
     "metadata": {},
     "output_type": "execute_result"
    }
   ],
   "source": [
    "grouped = df.groupby('year')\n",
    "salary_group = grouped.filter(lambda x: x['salary'].mean() > 24000.)\n",
    "salary_group.head()"
   ]
  },
  {
   "cell_type": "code",
   "execution_count": 7,
   "metadata": {},
   "outputs": [
    {
     "data": {
      "text/html": [
       "<script>requirejs.config({paths: { 'plotly': ['https://cdn.plot.ly/plotly-latest.min']},});if(!window.Plotly) {{require(['plotly'],function(plotly) {window.Plotly=plotly;});}}</script>"
      ],
      "text/vnd.plotly.v1+html": [
       "<script>requirejs.config({paths: { 'plotly': ['https://cdn.plot.ly/plotly-latest.min']},});if(!window.Plotly) {{require(['plotly'],function(plotly) {window.Plotly=plotly;});}}</script>"
      ]
     },
     "metadata": {},
     "output_type": "display_data"
    }
   ],
   "source": [
    "# This Python 3 environment comes with many helpful analytics libraries installed\n",
    "# It is defined by the kaggle/python docker image: https://github.com/kaggle/docker-python\n",
    "# For example, here's several helpful packages to load in \n",
    "\n",
    "import numpy as np # linear algebra\n",
    "import pandas as pd # data processing, CSV file I/O (e.g. pd.read_csv)\n",
    "import plotly.plotly as py\n",
    "from plotly.offline import init_notebook_mode, iplot\n",
    "init_notebook_mode(connected=True)\n",
    "\n",
    "import matplotlib.pyplot as plt\n",
    "# Input data files are available in the \"../input/\" directory.\n",
    "# For example, running this (by clicking run or pressing Shift+Enter) will list the files in the input directory\n",
    "import plotly.graph_objs as go\n",
    "import os\n",
    "# Any results you write to the current directory are saved as output.\n",
    "\n",
    "\n"
   ]
  },
  {
   "cell_type": "code",
   "execution_count": null,
   "metadata": {},
   "outputs": [],
   "source": [
    "# Predict 2019 "
   ]
  },
  {
   "cell_type": "code",
   "execution_count": 43,
   "metadata": {},
   "outputs": [
    {
     "data": {
      "text/html": [
       "<iframe id=\"igraph\" scrolling=\"no\" style=\"border:none;\" seamless=\"seamless\" src=\"https://plot.ly/~headwinds/2.embed\" height=\"525px\" width=\"100%\"></iframe>"
      ],
      "text/plain": [
       "<plotly.tools.PlotlyDisplay object>"
      ]
     },
     "execution_count": 43,
     "metadata": {},
     "output_type": "execute_result"
    }
   ],
   "source": [
    "# df = wind_set_decade\n",
    "#df = pd.read_csv('2011_february_us_airport_traffic.csv')\n",
    "#df.head()\n",
    "# [['t_state','p_name','p_year','t_manu','t_model','t_cap','p_cap','t_rd']]\n",
    "# df['text'] = df['p_name'] + '' + df['t_model'] + ', ' + df['t_state']\n",
    "\n",
    "scl = [ [0,\"rgb(5, 10, 172)\"],[0.35,\"rgb(40, 60, 190)\"],[0.5,\"rgb(70, 100, 245)\"],\\\n",
    "    [0.6,\"rgb(90, 120, 245)\"],[0.7,\"rgb(106, 137, 247)\"],[1,\"rgb(220, 220, 220)\"] ]\n",
    "\n",
    "data = [ dict(\n",
    "        type = 'scattergeo',\n",
    "        locationmode = 'USA-states',\n",
    "        lon = wind_set_decadeA['xlong'],\n",
    "        lat = wind_set_decadeA['ylat'],\n",
    "        text = wind_set_decadeA['p_name'],\n",
    "        mode = 'markers',\n",
    "        marker = dict(\n",
    "            size = wind_set_decadeA['t_rd'] / 8,\n",
    "            opacity = 0.9,\n",
    "            reversescale = True,\n",
    "            autocolorscale = False,\n",
    "            symbol = 'circle',\n",
    "            line = dict(\n",
    "                width=1,\n",
    "                color='rgba(102, 102, 102)'\n",
    "            ),\n",
    "            colorscale = scl,\n",
    "            cmin = 0,\n",
    "            color = wind_set_decadeA['p_cap'],\n",
    "            cmax = wind_set_decadeA['p_cap'].max\n",
    "            (),\n",
    "            colorbar=dict(\n",
    "                title=\"Power Capacity\"\n",
    "            )\n",
    "        ))]\n",
    "\n",
    "layout = dict(\n",
    "        title = 'US Windturbines 2016 - 2018 <br><span style=\"font-size:12px\">(Circle shows Rotor Size - Hover for windturbine names)</span>',\n",
    "        colorbar = True,\n",
    "        geo = dict(\n",
    "            scope='usa',\n",
    "            projection=dict( type='albers usa' ),\n",
    "            showland = True,\n",
    "            landcolor = \"rgb(250, 250, 250)\",\n",
    "            subunitcolor = \"rgb(217, 217, 217)\",\n",
    "            countrycolor = \"rgb(217, 217, 217)\",\n",
    "            countrywidth = 0.5,\n",
    "            subunitwidth = 0.5\n",
    "        ),\n",
    "    )\n",
    "\n",
    "fig = dict( data=data, layout=layout )\n",
    "py.iplot( fig, validate=False, filename='us-windturbines' )"
   ]
  },
  {
   "cell_type": "code",
   "execution_count": null,
   "metadata": {},
   "outputs": [],
   "source": []
  }
 ],
 "metadata": {
  "kernelspec": {
   "display_name": "Python 3",
   "language": "python",
   "name": "python3"
  },
  "language_info": {
   "codemirror_mode": {
    "name": "ipython",
    "version": 3
   },
   "file_extension": ".py",
   "mimetype": "text/x-python",
   "name": "python",
   "nbconvert_exporter": "python",
   "pygments_lexer": "ipython3",
   "version": "3.6.4"
  }
 },
 "nbformat": 4,
 "nbformat_minor": 2
}
