{
 "cells": [
  {
   "cell_type": "code",
   "execution_count": 4,
   "metadata": {},
   "outputs": [
    {
     "name": "stdout",
     "output_type": "stream",
     "text": [
      "['People have always known of dinosaurs, though they have called them by many names.', 'Old legends that place Western dragons in caves or beneath the earth may have originated with fossils.', 'The plumed serpent, prominent in mythologies of Mexico and Latin America, is often a creator of life.', 'The Rainbow Serpent of Aboriginal tales was present at the beginning of time, and helped prepare the landscapes for human beings and other animals.', 'The Asian dragon, which combines features of many animals, symbolizes primordial energy and is the bringer of rain.', 'These figures resemble our reconstructions of dinosaurs in appearance, and accounts place them in worlds that existed before humankind.', 'The major reason for this similarity might be that human imagination works in much the same way as evolution.', 'Both constantly recycle familiar forms such as wings, claws, crests, fangs, and scales, which may repeatedly vanish and then reappear through convergence.', 'The figure of Tyrannosaurus rex suggests a kangaroo, while pterosaurs resemble bats, but the similarities are not due to common ancestry.']\n"
     ]
    },
    {
     "name": "stderr",
     "output_type": "stream",
     "text": [
      "[nltk_data] Downloading package punkt to\n",
      "[nltk_data]     /Users/brandonflowers/nltk_data...\n",
      "[nltk_data]   Package punkt is already up-to-date!\n",
      "[nltk_data] Downloading package averaged_perceptron_tagger to\n",
      "[nltk_data]     /Users/brandonflowers/nltk_data...\n",
      "[nltk_data]   Package averaged_perceptron_tagger is already up-to-\n",
      "[nltk_data]       date!\n"
     ]
    },
    {
     "ename": "NameError",
     "evalue": "name 'question' is not defined",
     "output_type": "error",
     "traceback": [
      "\u001b[0;31m---------------------------------------------------------------------------\u001b[0m",
      "\u001b[0;31mNameError\u001b[0m                                 Traceback (most recent call last)",
      "\u001b[0;32m<ipython-input-4-7a62a7e62c9d>\u001b[0m in \u001b[0;36m<module>\u001b[0;34m\u001b[0m\n\u001b[1;32m     12\u001b[0m     \u001b[0;32mreturn\u001b[0m \u001b[0mquestion\u001b[0m\u001b[0;34m\u001b[0m\u001b[0m\n\u001b[1;32m     13\u001b[0m \u001b[0;34m\u001b[0m\u001b[0m\n\u001b[0;32m---> 14\u001b[0;31m \u001b[0mgenerate\u001b[0m\u001b[0;34m(\u001b[0m\u001b[0mdefault_answer\u001b[0m\u001b[0;34m)\u001b[0m\u001b[0;34m\u001b[0m\u001b[0m\n\u001b[0m",
      "\u001b[0;32m<ipython-input-4-7a62a7e62c9d>\u001b[0m in \u001b[0;36mgenerate\u001b[0;34m(document)\u001b[0m\n\u001b[1;32m     10\u001b[0m     \u001b[0;31m# sentences = [nltk.pos_tag(sent) for sent in sentences]\u001b[0m\u001b[0;34m\u001b[0m\u001b[0;34m\u001b[0m\u001b[0m\n\u001b[1;32m     11\u001b[0m     \u001b[0mprint\u001b[0m\u001b[0;34m(\u001b[0m\u001b[0msentences\u001b[0m\u001b[0;34m)\u001b[0m\u001b[0;34m\u001b[0m\u001b[0m\n\u001b[0;32m---> 12\u001b[0;31m     \u001b[0;32mreturn\u001b[0m \u001b[0mquestion\u001b[0m\u001b[0;34m\u001b[0m\u001b[0m\n\u001b[0m\u001b[1;32m     13\u001b[0m \u001b[0;34m\u001b[0m\u001b[0m\n\u001b[1;32m     14\u001b[0m \u001b[0mgenerate\u001b[0m\u001b[0;34m(\u001b[0m\u001b[0mdefault_answer\u001b[0m\u001b[0;34m)\u001b[0m\u001b[0;34m\u001b[0m\u001b[0m\n",
      "\u001b[0;31mNameError\u001b[0m: name 'question' is not defined"
     ]
    }
   ],
   "source": [
    "import nltk, re, pprint\n",
    "nltk.download('punkt')\n",
    "nltk.download('averaged_perceptron_tagger')"
   ]
  },
  {
   "cell_type": "code",
   "execution_count": 11,
   "metadata": {},
   "outputs": [
    {
     "name": "stdout",
     "output_type": "stream",
     "text": [
      "[Counter({'IN': 3, 'NNS': 2, 'VBP': 2, 'VBN': 2, 'PRP': 2, 'RB': 1, 'NN': 1, ',': 1, 'JJ': 1, '.': 1}), Counter({'IN': 3, 'NNS': 3, 'NN': 2, 'VB': 2, 'NNP': 1, 'VBZ': 1, 'JJ': 1, 'CC': 1, 'DT': 1, 'MD': 1, 'VBN': 1, '.': 1}), Counter({'NN': 4, 'IN': 3, 'NNP': 3, 'DT': 2, ',': 2, 'JJ': 1, 'NNS': 1, 'CC': 1, 'VBZ': 1, 'RB': 1, '.': 1}), Counter({'IN': 4, 'NNS': 4, 'DT': 3, 'NNP': 3, 'JJ': 3, 'VBD': 2, 'NN': 2, 'CC': 2, ',': 1, 'VB': 1, '.': 1}), Counter({'NN': 4, 'JJ': 3, 'VBZ': 3, 'DT': 2, ',': 2, 'NNS': 2, 'IN': 2, 'WDT': 1, 'CC': 1, '.': 1}), Counter({'NNS': 5, 'IN': 4, 'VBP': 2, 'NN': 2, 'DT': 1, 'PRP$': 1, ',': 1, 'CC': 1, 'PRP': 1, 'WDT': 1, 'VBD': 1, '.': 1}), Counter({'NN': 5, 'JJ': 4, 'IN': 4, 'DT': 3, 'MD': 1, 'VB': 1, 'VBZ': 1, '.': 1}), Counter({'NNS': 6, ',': 5, 'RB': 3, 'NN': 2, 'JJ': 2, 'IN': 2, 'CC': 2, 'VB': 2, 'DT': 1, 'WDT': 1, 'MD': 1, '.': 1}), Counter({'NN': 4, 'DT': 3, 'NNS': 3, 'JJ': 3, 'IN': 2, ',': 2, 'NNP': 1, 'VBZ': 1, 'CC': 1, 'VBP': 1, 'RB': 1, 'TO': 1, '.': 1})]\n"
     ]
    }
   ],
   "source": [
    "from collections import Counter\n",
    "\n",
    "default_answer = \"People have always known of dinosaurs, though they have called them by many names. Old legends that place Western dragons in caves or beneath the earth may have originated with fossils. The plumed serpent, prominent in mythologies of Mexico and Latin America, is often a creator of life. The Rainbow Serpent of Aboriginal tales was present at the beginning of time, and helped prepare the landscapes for human beings and other animals. The Asian dragon, which combines features of many animals, symbolizes primordial energy and is the bringer of rain. These figures resemble our reconstructions of dinosaurs in appearance, and accounts place them in worlds that existed before humankind. The major reason for this similarity might be that human imagination works in much the same way as evolution. Both constantly recycle familiar forms such as wings, claws, crests, fangs, and scales, which may repeatedly vanish and then reappear through convergence. The figure of Tyrannosaurus rex suggests a kangaroo, while pterosaurs resemble bats, but the similarities are not due to common ancestry.\"\n",
    "\n",
    "def generate(document):\n",
    "    sentences = nltk.sent_tokenize(document) \n",
    "    sentences = [nltk.word_tokenize(sent) for sent in sentences] \n",
    "    sentences = [nltk.pos_tag(sent) for sent in sentences]\n",
    "    # print(sentences)\n",
    "    return sentences\n",
    "\n",
    "tagged_parts = generate(default_answer)\n",
    "\n",
    "# https://stackoverflow.com/questions/10674832/count-verbs-nouns-and-other-parts-of-speech-with-pythons-nltk\n",
    "def count_parts(tagged_parts):\n",
    "    counts = []\n",
    "    for tagged in tagged_parts:\n",
    "        counts.append(Counter(tag for word,tag in tagged))\n",
    "        \n",
    "    return counts\n",
    "    \n",
    "counts = count_parts(tagged_parts)\n",
    "\n",
    "print(counts)"
   ]
  },
  {
   "cell_type": "code",
   "execution_count": null,
   "metadata": {},
   "outputs": [],
   "source": []
  }
 ],
 "metadata": {
  "kernelspec": {
   "display_name": "Python 3",
   "language": "python",
   "name": "python3"
  },
  "language_info": {
   "codemirror_mode": {
    "name": "ipython",
    "version": 3
   },
   "file_extension": ".py",
   "mimetype": "text/x-python",
   "name": "python",
   "nbconvert_exporter": "python",
   "pygments_lexer": "ipython3",
   "version": "3.6.6"
  }
 },
 "nbformat": 4,
 "nbformat_minor": 2
}
