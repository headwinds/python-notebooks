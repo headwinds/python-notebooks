{
 "cells": [
  {
   "cell_type": "code",
   "execution_count": 4,
   "metadata": {},
   "outputs": [
    {
     "name": "stdout",
     "output_type": "stream",
     "text": [
      "['People have always known of dinosaurs, though they have called them by many names.', 'Old legends that place Western dragons in caves or beneath the earth may have originated with fossils.', 'The plumed serpent, prominent in mythologies of Mexico and Latin America, is often a creator of life.', 'The Rainbow Serpent of Aboriginal tales was present at the beginning of time, and helped prepare the landscapes for human beings and other animals.', 'The Asian dragon, which combines features of many animals, symbolizes primordial energy and is the bringer of rain.', 'These figures resemble our reconstructions of dinosaurs in appearance, and accounts place them in worlds that existed before humankind.', 'The major reason for this similarity might be that human imagination works in much the same way as evolution.', 'Both constantly recycle familiar forms such as wings, claws, crests, fangs, and scales, which may repeatedly vanish and then reappear through convergence.', 'The figure of Tyrannosaurus rex suggests a kangaroo, while pterosaurs resemble bats, but the similarities are not due to common ancestry.']\n"
     ]
    },
    {
     "name": "stderr",
     "output_type": "stream",
     "text": [
      "[nltk_data] Downloading package punkt to\n",
      "[nltk_data]     /Users/brandonflowers/nltk_data...\n",
      "[nltk_data]   Package punkt is already up-to-date!\n",
      "[nltk_data] Downloading package averaged_perceptron_tagger to\n",
      "[nltk_data]     /Users/brandonflowers/nltk_data...\n",
      "[nltk_data]   Package averaged_perceptron_tagger is already up-to-\n",
      "[nltk_data]       date!\n"
     ]
    },
    {
     "ename": "NameError",
     "evalue": "name 'question' is not defined",
     "output_type": "error",
     "traceback": [
      "\u001b[0;31m---------------------------------------------------------------------------\u001b[0m",
      "\u001b[0;31mNameError\u001b[0m                                 Traceback (most recent call last)",
      "\u001b[0;32m<ipython-input-4-7a62a7e62c9d>\u001b[0m in \u001b[0;36m<module>\u001b[0;34m\u001b[0m\n\u001b[1;32m     12\u001b[0m     \u001b[0;32mreturn\u001b[0m \u001b[0mquestion\u001b[0m\u001b[0;34m\u001b[0m\u001b[0m\n\u001b[1;32m     13\u001b[0m \u001b[0;34m\u001b[0m\u001b[0m\n\u001b[0;32m---> 14\u001b[0;31m \u001b[0mgenerate\u001b[0m\u001b[0;34m(\u001b[0m\u001b[0mdefault_answer\u001b[0m\u001b[0;34m)\u001b[0m\u001b[0;34m\u001b[0m\u001b[0m\n\u001b[0m",
      "\u001b[0;32m<ipython-input-4-7a62a7e62c9d>\u001b[0m in \u001b[0;36mgenerate\u001b[0;34m(document)\u001b[0m\n\u001b[1;32m     10\u001b[0m     \u001b[0;31m# sentences = [nltk.pos_tag(sent) for sent in sentences]\u001b[0m\u001b[0;34m\u001b[0m\u001b[0;34m\u001b[0m\u001b[0m\n\u001b[1;32m     11\u001b[0m     \u001b[0mprint\u001b[0m\u001b[0;34m(\u001b[0m\u001b[0msentences\u001b[0m\u001b[0;34m)\u001b[0m\u001b[0;34m\u001b[0m\u001b[0m\n\u001b[0;32m---> 12\u001b[0;31m     \u001b[0;32mreturn\u001b[0m \u001b[0mquestion\u001b[0m\u001b[0;34m\u001b[0m\u001b[0m\n\u001b[0m\u001b[1;32m     13\u001b[0m \u001b[0;34m\u001b[0m\u001b[0m\n\u001b[1;32m     14\u001b[0m \u001b[0mgenerate\u001b[0m\u001b[0;34m(\u001b[0m\u001b[0mdefault_answer\u001b[0m\u001b[0;34m)\u001b[0m\u001b[0;34m\u001b[0m\u001b[0m\n",
      "\u001b[0;31mNameError\u001b[0m: name 'question' is not defined"
     ]
    }
   ],
   "source": [
    "import nltk, re, pprint\n",
    "nltk.download('punkt')\n",
    "nltk.download('averaged_perceptron_tagger')"
   ]
  },
  {
   "cell_type": "code",
   "execution_count": 7,
   "metadata": {},
   "outputs": [
    {
     "name": "stdout",
     "output_type": "stream",
     "text": [
      "[[('People', 'NNS'), ('have', 'VBP'), ('always', 'RB'), ('known', 'VBN'), ('of', 'IN'), ('dinosaurs', 'NN'), (',', ','), ('though', 'IN'), ('they', 'PRP'), ('have', 'VBP'), ('called', 'VBN'), ('them', 'PRP'), ('by', 'IN'), ('many', 'JJ'), ('names', 'NNS'), ('.', '.')], [('Old', 'NNP'), ('legends', 'VBZ'), ('that', 'IN'), ('place', 'NN'), ('Western', 'JJ'), ('dragons', 'NNS'), ('in', 'IN'), ('caves', 'NNS'), ('or', 'CC'), ('beneath', 'VB'), ('the', 'DT'), ('earth', 'NN'), ('may', 'MD'), ('have', 'VB'), ('originated', 'VBN'), ('with', 'IN'), ('fossils', 'NNS'), ('.', '.')], [('The', 'DT'), ('plumed', 'JJ'), ('serpent', 'NN'), (',', ','), ('prominent', 'NN'), ('in', 'IN'), ('mythologies', 'NNS'), ('of', 'IN'), ('Mexico', 'NNP'), ('and', 'CC'), ('Latin', 'NNP'), ('America', 'NNP'), (',', ','), ('is', 'VBZ'), ('often', 'RB'), ('a', 'DT'), ('creator', 'NN'), ('of', 'IN'), ('life', 'NN'), ('.', '.')], [('The', 'DT'), ('Rainbow', 'NNP'), ('Serpent', 'NNP'), ('of', 'IN'), ('Aboriginal', 'NNP'), ('tales', 'NNS'), ('was', 'VBD'), ('present', 'JJ'), ('at', 'IN'), ('the', 'DT'), ('beginning', 'NN'), ('of', 'IN'), ('time', 'NN'), (',', ','), ('and', 'CC'), ('helped', 'VBD'), ('prepare', 'VB'), ('the', 'DT'), ('landscapes', 'NNS'), ('for', 'IN'), ('human', 'JJ'), ('beings', 'NNS'), ('and', 'CC'), ('other', 'JJ'), ('animals', 'NNS'), ('.', '.')], [('The', 'DT'), ('Asian', 'JJ'), ('dragon', 'NN'), (',', ','), ('which', 'WDT'), ('combines', 'VBZ'), ('features', 'NNS'), ('of', 'IN'), ('many', 'JJ'), ('animals', 'NNS'), (',', ','), ('symbolizes', 'VBZ'), ('primordial', 'JJ'), ('energy', 'NN'), ('and', 'CC'), ('is', 'VBZ'), ('the', 'DT'), ('bringer', 'NN'), ('of', 'IN'), ('rain', 'NN'), ('.', '.')], [('These', 'DT'), ('figures', 'NNS'), ('resemble', 'VBP'), ('our', 'PRP$'), ('reconstructions', 'NNS'), ('of', 'IN'), ('dinosaurs', 'NNS'), ('in', 'IN'), ('appearance', 'NN'), (',', ','), ('and', 'CC'), ('accounts', 'NNS'), ('place', 'VBP'), ('them', 'PRP'), ('in', 'IN'), ('worlds', 'NNS'), ('that', 'WDT'), ('existed', 'VBD'), ('before', 'IN'), ('humankind', 'NN'), ('.', '.')], [('The', 'DT'), ('major', 'JJ'), ('reason', 'NN'), ('for', 'IN'), ('this', 'DT'), ('similarity', 'NN'), ('might', 'MD'), ('be', 'VB'), ('that', 'IN'), ('human', 'JJ'), ('imagination', 'NN'), ('works', 'VBZ'), ('in', 'IN'), ('much', 'JJ'), ('the', 'DT'), ('same', 'JJ'), ('way', 'NN'), ('as', 'IN'), ('evolution', 'NN'), ('.', '.')], [('Both', 'DT'), ('constantly', 'RB'), ('recycle', 'NN'), ('familiar', 'JJ'), ('forms', 'NNS'), ('such', 'JJ'), ('as', 'IN'), ('wings', 'NNS'), (',', ','), ('claws', 'NNS'), (',', ','), ('crests', 'NNS'), (',', ','), ('fangs', 'NNS'), (',', ','), ('and', 'CC'), ('scales', 'NNS'), (',', ','), ('which', 'WDT'), ('may', 'MD'), ('repeatedly', 'RB'), ('vanish', 'VB'), ('and', 'CC'), ('then', 'RB'), ('reappear', 'VB'), ('through', 'IN'), ('convergence', 'NN'), ('.', '.')], [('The', 'DT'), ('figure', 'NN'), ('of', 'IN'), ('Tyrannosaurus', 'NNP'), ('rex', 'NN'), ('suggests', 'VBZ'), ('a', 'DT'), ('kangaroo', 'NN'), (',', ','), ('while', 'IN'), ('pterosaurs', 'NNS'), ('resemble', 'JJ'), ('bats', 'NNS'), (',', ','), ('but', 'CC'), ('the', 'DT'), ('similarities', 'NNS'), ('are', 'VBP'), ('not', 'RB'), ('due', 'JJ'), ('to', 'TO'), ('common', 'JJ'), ('ancestry', 'NN'), ('.', '.')]]\n"
     ]
    },
    {
     "ename": "NameError",
     "evalue": "name 'question' is not defined",
     "output_type": "error",
     "traceback": [
      "\u001b[0;31m---------------------------------------------------------------------------\u001b[0m",
      "\u001b[0;31mNameError\u001b[0m                                 Traceback (most recent call last)",
      "\u001b[0;32m<ipython-input-7-5c3b5db9b221>\u001b[0m in \u001b[0;36m<module>\u001b[0;34m\u001b[0m\n\u001b[1;32m      8\u001b[0m     \u001b[0;32mreturn\u001b[0m \u001b[0mquestion\u001b[0m\u001b[0;34m\u001b[0m\u001b[0m\n\u001b[1;32m      9\u001b[0m \u001b[0;34m\u001b[0m\u001b[0m\n\u001b[0;32m---> 10\u001b[0;31m \u001b[0mgenerate\u001b[0m\u001b[0;34m(\u001b[0m\u001b[0mdefault_answer\u001b[0m\u001b[0;34m)\u001b[0m\u001b[0;34m\u001b[0m\u001b[0m\n\u001b[0m",
      "\u001b[0;32m<ipython-input-7-5c3b5db9b221>\u001b[0m in \u001b[0;36mgenerate\u001b[0;34m(document)\u001b[0m\n\u001b[1;32m      6\u001b[0m     \u001b[0msentences\u001b[0m \u001b[0;34m=\u001b[0m \u001b[0;34m[\u001b[0m\u001b[0mnltk\u001b[0m\u001b[0;34m.\u001b[0m\u001b[0mpos_tag\u001b[0m\u001b[0;34m(\u001b[0m\u001b[0msent\u001b[0m\u001b[0;34m)\u001b[0m \u001b[0;32mfor\u001b[0m \u001b[0msent\u001b[0m \u001b[0;32min\u001b[0m \u001b[0msentences\u001b[0m\u001b[0;34m]\u001b[0m\u001b[0;34m\u001b[0m\u001b[0m\n\u001b[1;32m      7\u001b[0m     \u001b[0mprint\u001b[0m\u001b[0;34m(\u001b[0m\u001b[0msentences\u001b[0m\u001b[0;34m)\u001b[0m\u001b[0;34m\u001b[0m\u001b[0m\n\u001b[0;32m----> 8\u001b[0;31m     \u001b[0;32mreturn\u001b[0m \u001b[0mquestion\u001b[0m\u001b[0;34m\u001b[0m\u001b[0m\n\u001b[0m\u001b[1;32m      9\u001b[0m \u001b[0;34m\u001b[0m\u001b[0m\n\u001b[1;32m     10\u001b[0m \u001b[0mgenerate\u001b[0m\u001b[0;34m(\u001b[0m\u001b[0mdefault_answer\u001b[0m\u001b[0;34m)\u001b[0m\u001b[0;34m\u001b[0m\u001b[0m\n",
      "\u001b[0;31mNameError\u001b[0m: name 'question' is not defined"
     ]
    }
   ],
   "source": [
    "default_answer = \"People have always known of dinosaurs, though they have called them by many names. Old legends that place Western dragons in caves or beneath the earth may have originated with fossils. The plumed serpent, prominent in mythologies of Mexico and Latin America, is often a creator of life. The Rainbow Serpent of Aboriginal tales was present at the beginning of time, and helped prepare the landscapes for human beings and other animals. The Asian dragon, which combines features of many animals, symbolizes primordial energy and is the bringer of rain. These figures resemble our reconstructions of dinosaurs in appearance, and accounts place them in worlds that existed before humankind. The major reason for this similarity might be that human imagination works in much the same way as evolution. Both constantly recycle familiar forms such as wings, claws, crests, fangs, and scales, which may repeatedly vanish and then reappear through convergence. The figure of Tyrannosaurus rex suggests a kangaroo, while pterosaurs resemble bats, but the similarities are not due to common ancestry.\"\n",
    "\n",
    "def generate(document):\n",
    "    sentences = nltk.sent_tokenize(document) \n",
    "    sentences = [nltk.word_tokenize(sent) for sent in sentences] \n",
    "    sentences = [nltk.pos_tag(sent) for sent in sentences]\n",
    "    print(sentences)\n",
    "    return sentences\n",
    "\n",
    "generate(default_answer)"
   ]
  },
  {
   "cell_type": "code",
   "execution_count": null,
   "metadata": {},
   "outputs": [],
   "source": []
  }
 ],
 "metadata": {
  "kernelspec": {
   "display_name": "Python 3",
   "language": "python",
   "name": "python3"
  },
  "language_info": {
   "codemirror_mode": {
    "name": "ipython",
    "version": 3
   },
   "file_extension": ".py",
   "mimetype": "text/x-python",
   "name": "python",
   "nbconvert_exporter": "python",
   "pygments_lexer": "ipython3",
   "version": "3.6.6"
  }
 },
 "nbformat": 4,
 "nbformat_minor": 2
}
