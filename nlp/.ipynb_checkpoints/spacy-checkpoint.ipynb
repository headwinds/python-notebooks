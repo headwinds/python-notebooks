{
 "cells": [
  {
   "cell_type": "markdown",
   "metadata": {},
   "source": [
    "# Exploring Spacy\n",
    "\n",
    "\n",
    "[spacy getting started](https://spacy.io/)"
   ]
  },
  {
   "cell_type": "code",
   "execution_count": 1,
   "metadata": {},
   "outputs": [
    {
     "name": "stdout",
     "output_type": "stream",
     "text": [
      "Sebastian Thrun PERSON\n",
      "Google ORG\n",
      "2007 DATE\n",
      "American NORP\n",
      "Thrun PERSON\n",
      "Recode ORG\n",
      "earlier this week DATE\n",
      "my fries were super gross such disgusting fries 0.7139701576579747\n"
     ]
    }
   ],
   "source": [
    "import spacy\n",
    "\n",
    "# Load English tokenizer, tagger, parser, NER and word vectors\n",
    "nlp = spacy.load('en_core_web_sm')\n",
    "\n",
    "# Process whole documents\n",
    "text = (u\"When Sebastian Thrun started working on self-driving cars at \"\n",
    "        u\"Google in 2007, few people outside of the company took him \"\n",
    "        u\"seriously. “I can tell you very senior CEOs of major American \"\n",
    "        u\"car companies would shake my hand and turn away because I wasn’t \"\n",
    "        u\"worth talking to,” said Thrun, now the co-founder and CEO of \"\n",
    "        u\"online higher education startup Udacity, in an interview with \"\n",
    "        u\"Recode earlier this week.\")\n",
    "doc = nlp(text)\n",
    "\n",
    "# Find named entities, phrases and concepts\n",
    "for entity in doc.ents:\n",
    "    print(entity.text, entity.label_)\n",
    "\n",
    "# Determine semantic similarities\n",
    "doc1 = nlp(u\"my fries were super gross\")\n",
    "doc2 = nlp(u\"such disgusting fries\")\n",
    "similarity = doc1.similarity(doc2)\n",
    "print(doc1.text, doc2.text, similarity)"
   ]
  },
  {
   "cell_type": "markdown",
   "metadata": {},
   "source": [
    "# Dinosaur Text\n",
    "\n"
   ]
  },
  {
   "cell_type": "code",
   "execution_count": 3,
   "metadata": {},
   "outputs": [
    {
     "name": "stdout",
     "output_type": "stream",
     "text": [
      "Mexico GPE\n",
      "Latin America LOC\n",
      "The Rainbow Serpent of Aboriginal PRODUCT\n",
      "Asian NORP\n",
      "Tyrannosaurus ORG\n"
     ]
    }
   ],
   "source": [
    "default_answer = \"People have always known of dinosaurs, though they have called them by many names. Old legends that place Western dragons in caves or beneath the earth may have originated with fossils. The plumed serpent, prominent in mythologies of Mexico and Latin America, is often a creator of life. The Rainbow Serpent of Aboriginal tales was present at the beginning of time, and helped prepare the landscapes for human beings and other animals. The Asian dragon, which combines features of many animals, symbolizes primordial energy and is the bringer of rain. These figures resemble our reconstructions of dinosaurs in appearance, and accounts place them in worlds that existed before humankind. The major reason for this similarity might be that human imagination works in much the same way as evolution. Both constantly recycle familiar forms such as wings, claws, crests, fangs, and scales, which may repeatedly vanish and then reappear through convergence. The figure of Tyrannosaurus rex suggests a kangaroo, while pterosaurs resemble bats, but the similarities are not due to common ancestry.\"\n",
    "\n",
    "dino_doc = nlp(default_answer)\n",
    "\n",
    "# Find named entities, phrases and concepts\n",
    "for entity in dino_doc.ents:\n",
    "    print(entity.text, entity.label_)"
   ]
  },
  {
   "cell_type": "markdown",
   "metadata": {},
   "source": [
    "# Cabin Quest API\n",
    "\n",
    "[cabinquest API](https://cabinquest.now.sh/)\n"
   ]
  },
  {
   "cell_type": "code",
   "execution_count": 7,
   "metadata": {},
   "outputs": [
    {
     "name": "stdout",
     "output_type": "stream",
     "text": [
      "Being Rich and Successful Is in Your WORK_OF_ART\n",
      "Guardian ORG\n",
      "July 12 DATE\n",
      "A New Genetic Test Could LAW\n",
      "Determine Children PERSON\n",
      "Newsweek ORG\n",
      "July 10 DATE\n",
      "“Our Fortunetelling Genes WORK_OF_ART\n",
      "Wall Street Journal ORG\n",
      "Nov. 16 DATE\n"
     ]
    }
   ],
   "source": [
    "import requests\n",
    "from bs4 import BeautifulSoup\n",
    "\n",
    "nautilis=\"https://cabinquest.now.sh/bellwoods/trees/getTreeByRSSUrl/:xmlUrl?xmlUrl=http:%2F%2Fnautil.us%2Frss%2Fall\"\n",
    "response = requests.get(nautilis)\n",
    "json = response.json()\n",
    "\n",
    "def get_txt():\n",
    "    titles = []\n",
    "    descriptions = []\n",
    "    for branch in json[\"branches\"]:\n",
    "        title = branch[\"title\"]\n",
    "        titles.append(title)\n",
    "\n",
    "        description = BeautifulSoup(branch[\"description\"]).find('p').getText()\n",
    "        descriptions.append(description)\n",
    "    return {\"titles\":titles, \"descriptions\":descriptions}\n",
    "\n",
    "txt = get_txt()\n",
    "\n",
    "article_desc = txt[\"descriptions\"][5] \n",
    "\n",
    "article_desc_doc = nlp(article_desc)\n",
    "\n",
    "# Find named entities, phrases and concepts\n",
    "for entity in article_desc_doc.ents:\n",
    "    print(entity.text, entity.label_)"
   ]
  },
  {
   "cell_type": "code",
   "execution_count": null,
   "metadata": {},
   "outputs": [],
   "source": []
  }
 ],
 "metadata": {
  "kernelspec": {
   "display_name": "Python 3",
   "language": "python",
   "name": "python3"
  },
  "language_info": {
   "codemirror_mode": {
    "name": "ipython",
    "version": 3
   },
   "file_extension": ".py",
   "mimetype": "text/x-python",
   "name": "python",
   "nbconvert_exporter": "python",
   "pygments_lexer": "ipython3",
   "version": "3.6.6"
  }
 },
 "nbformat": 4,
 "nbformat_minor": 2
}
