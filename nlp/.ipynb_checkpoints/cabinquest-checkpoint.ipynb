{
 "cells": [
  {
   "cell_type": "code",
   "execution_count": 9,
   "metadata": {},
   "outputs": [
    {
     "data": {
      "text/plain": [
       "<Response [200]>"
      ]
     },
     "execution_count": 9,
     "metadata": {},
     "output_type": "execute_result"
    }
   ],
   "source": [
    "import requests\n",
    "from bs4 import BeautifulSoup\n",
    "\n",
    "\n",
    "url = \"https://cabinquest.now.sh/bellwoods/trees/getTreeByRSSUrl/:xmlUrl?xmlUrl=http:%2F%2Fcabinporn.com%2Frss\"\n",
    "nautilis=\"https://cabinquest.now.sh/bellwoods/trees/getTreeByRSSUrl/:xmlUrl?xmlUrl=http:%2F%2Fnautil.us%2Frss%2Fall\"\n",
    "\n",
    "response = requests.get(nautilis)\n",
    "\n",
    "response\n"
   ]
  },
  {
   "cell_type": "code",
   "execution_count": 10,
   "metadata": {},
   "outputs": [
    {
     "name": "stdout",
     "output_type": "stream",
     "text": [
      "cabinquest json:  application/json; charset=utf-8\n",
      "cabinquest json 20\n",
      "Echos - Issue 68: Context\n",
      "How We’ll Forget John Lennon - Issue 68: Context\n",
      "The Dawn of Life in a $5 Toaster Oven - Issue 68: Context\n",
      "Evolution’s Gravity: A Paean to Natural Selection - Facts So Romantic\n",
      "The Case for More Science and Philosophy Books for Children - Facts So Romantic\n",
      "It’s the End of the Gene As We Know It - Issue 68: Context\n",
      "When Stress Comes with Your Mother’s Milk - Issue 68: Context\n",
      "How Alan Turing Deciphered Shark Skin - Issue 68: Context\n",
      "Why Black Hole Interiors Grow (Almost) Forever - Facts So Romantic\n",
      "The Case Against Geniuses - Facts So Romantic\n",
      "What Defines a Stem Cell? - Issue 67: Reboot\n",
      "The Surprising Relativism of the Brain’s GPS - Issue 67: Reboot\n",
      "Yuval Noah Harari Is Worried About Our Souls - Issue 67: Reboot\n",
      "Why Social Science Needs Evolutionary Theory - Facts So Romantic\n",
      "Why We Love Dinosaurs - Issue 67: Reboot\n",
      "Iron Is the New Cholesterol - Issue 67: Reboot\n",
      "How Math’s Most Famous Proof Nearly Broke - Issue 67: Reboot\n",
      "What a Newfound Kingdom Means for the Tree of Life - Facts So Romantic\n",
      "Does Scrabble Need To Be Fixed? - Issue 67: Reboot\n",
      "Holding Hands with a Chimp - Issue 67: Reboot\n"
     ]
    }
   ],
   "source": [
    "json = response.json()\n",
    "\n",
    "# branches = r.content.branches\n",
    "print(\"cabinquest json: \", response.headers['content-type'])\n",
    "\n",
    "count = len(json[\"branches\"])\n",
    "print(\"cabinquest json {0}\".format(count))\n",
    "\n",
    "def get_txt():\n",
    "    titles = []\n",
    "    descriptions = []\n",
    "    for branch in json[\"branches\"]:\n",
    "        title = branch[\"title\"]\n",
    "        titles.append(title)\n",
    "\n",
    "        description = BeautifulSoup(branch[\"description\"]).find('p').getText()\n",
    "        descriptions.append(description)\n",
    "    return {\"titles\":titles, \"descriptions\":descriptions}\n",
    "\n",
    "txt = get_txt()\n",
    "\n",
    "dino = txt[\"descriptions\"][5]    \n",
    "\n",
    "for title in txt[\"titles\"]:\n",
    "    print(title)\n",
    "\n",
    "# content = {\"titles\":txt[\"titles\"], \"descriptions\":txt[\"descriptions\"], \"branches\":json[\"branches\"]}"
   ]
  },
  {
   "cell_type": "code",
   "execution_count": null,
   "metadata": {},
   "outputs": [],
   "source": []
  }
 ],
 "metadata": {
  "kernelspec": {
   "display_name": "Python 3",
   "language": "python",
   "name": "python3"
  },
  "language_info": {
   "codemirror_mode": {
    "name": "ipython",
    "version": 3
   },
   "file_extension": ".py",
   "mimetype": "text/x-python",
   "name": "python",
   "nbconvert_exporter": "python",
   "pygments_lexer": "ipython3",
   "version": "3.6.6"
  }
 },
 "nbformat": 4,
 "nbformat_minor": 2
}
